{
 "cells": [
  {
   "source": [
    "# Leitura dos dados"
   ],
   "cell_type": "markdown",
   "metadata": {}
  },
  {
   "cell_type": "code",
   "execution_count": 960,
   "metadata": {},
   "outputs": [
    {
     "output_type": "stream",
     "name": "stdout",
     "text": [
      "Tipos:\nId                 int64\nProgram           object\nY0s1_enrol       float64\nY0s2_enrol       float64\nY1s1_enrol       float64\nY1s1_complete    float64\nY1s1_grade       float64\nY1s2_enrol       float64\nY1s2_complete    float64\nY1s2_grade       float64\nY2s1_enrol       float64\nY2s1_complete    float64\nY2s1_grade       float64\nY2s2_enrol       float64\nY2s2_complete    float64\nY2s2_grade       float64\nY3s1_enrol       float64\nY3s1_complete    float64\nY3s1_grade       float64\nY3s2_enrol       float64\nY3s2_complete    float64\nY3s2_grade       float64\nY4s1_enrol       float64\nY4s1_complete    float64\nY4s1_grade       float64\nY4s2_enrol       float64\nY4s2_complete    float64\nY4s2_grade       float64\nRest_enrol       float64\nRest_complete    float64\nRest_grade       float64\nFailure            int64\ndtype: object\nLinhas & Colunas:\n(1846, 32)\nColunas:\nIndex(['Id', 'Program', 'Y0s1_enrol', 'Y0s2_enrol', 'Y1s1_enrol',\n       'Y1s1_complete', 'Y1s1_grade', 'Y1s2_enrol', 'Y1s2_complete',\n       'Y1s2_grade', 'Y2s1_enrol', 'Y2s1_complete', 'Y2s1_grade', 'Y2s2_enrol',\n       'Y2s2_complete', 'Y2s2_grade', 'Y3s1_enrol', 'Y3s1_complete',\n       'Y3s1_grade', 'Y3s2_enrol', 'Y3s2_complete', 'Y3s2_grade', 'Y4s1_enrol',\n       'Y4s1_complete', 'Y4s1_grade', 'Y4s2_enrol', 'Y4s2_complete',\n       'Y4s2_grade', 'Rest_enrol', 'Rest_complete', 'Rest_grade', 'Failure'],\n      dtype='object')\nValores Vazios:\nId               0.0\nProgram          0.0\nY0s1_enrol       0.0\nY0s2_enrol       0.0\nY1s1_enrol       0.0\nY1s1_complete    0.0\nY1s1_grade       0.0\nY1s2_enrol       0.0\nY1s2_complete    0.0\nY1s2_grade       0.0\nY2s1_enrol       0.0\nY2s1_complete    0.0\nY2s1_grade       0.0\nY2s2_enrol       0.0\nY2s2_complete    0.0\nY2s2_grade       0.0\nY3s1_enrol       0.0\nY3s1_complete    0.0\nY3s1_grade       0.0\nY3s2_enrol       0.0\nY3s2_complete    0.0\nY3s2_grade       0.0\nY4s1_enrol       0.0\nY4s1_complete    0.0\nY4s1_grade       0.0\nY4s2_enrol       0.0\nY4s2_complete    0.0\nY4s2_grade       0.0\nRest_enrol       0.0\nRest_complete    0.0\nRest_grade       0.0\nFailure          0.0\ndtype: float64\nTipos:\nId                 int64\nProgram           object\nY0s1_enrol       float64\nY0s2_enrol       float64\nY1s1_enrol       float64\nY1s1_complete    float64\nY1s1_grade       float64\nY1s2_enrol       float64\nY1s2_complete    float64\nY1s2_grade       float64\nY2s1_enrol       float64\nY2s1_complete    float64\nY2s1_grade       float64\nY2s2_enrol       float64\nY2s2_complete    float64\nY2s2_grade       float64\nY3s1_enrol       float64\nY3s1_complete    float64\nY3s1_grade       float64\nY3s2_enrol       float64\nY3s2_complete    float64\nY3s2_grade       float64\nY4s1_enrol       float64\nY4s1_complete    float64\nY4s1_grade       float64\nY4s2_enrol       float64\nY4s2_complete    float64\nY4s2_grade       float64\nRest_enrol       float64\nRest_complete    float64\nRest_grade       float64\ndtype: object\nLinhas & Colunas:\n(792, 31)\nColunas:\nIndex(['Id', 'Program', 'Y0s1_enrol', 'Y0s2_enrol', 'Y1s1_enrol',\n       'Y1s1_complete', 'Y1s1_grade', 'Y1s2_enrol', 'Y1s2_complete',\n       'Y1s2_grade', 'Y2s1_enrol', 'Y2s1_complete', 'Y2s1_grade', 'Y2s2_enrol',\n       'Y2s2_complete', 'Y2s2_grade', 'Y3s1_enrol', 'Y3s1_complete',\n       'Y3s1_grade', 'Y3s2_enrol', 'Y3s2_complete', 'Y3s2_grade', 'Y4s1_enrol',\n       'Y4s1_complete', 'Y4s1_grade', 'Y4s2_enrol', 'Y4s2_complete',\n       'Y4s2_grade', 'Rest_enrol', 'Rest_complete', 'Rest_grade'],\n      dtype='object')\nValores Vazios:\nId               0.0\nProgram          0.0\nY0s1_enrol       0.0\nY0s2_enrol       0.0\nY1s1_enrol       0.0\nY1s1_complete    0.0\nY1s1_grade       0.0\nY1s2_enrol       0.0\nY1s2_complete    0.0\nY1s2_grade       0.0\nY2s1_enrol       0.0\nY2s1_complete    0.0\nY2s1_grade       0.0\nY2s2_enrol       0.0\nY2s2_complete    0.0\nY2s2_grade       0.0\nY3s1_enrol       0.0\nY3s1_complete    0.0\nY3s1_grade       0.0\nY3s2_enrol       0.0\nY3s2_complete    0.0\nY3s2_grade       0.0\nY4s1_enrol       0.0\nY4s1_complete    0.0\nY4s1_grade       0.0\nY4s2_enrol       0.0\nY4s2_complete    0.0\nY4s2_grade       0.0\nRest_enrol       0.0\nRest_complete    0.0\nRest_grade       0.0\ndtype: float64\n"
     ]
    }
   ],
   "source": [
    "import numpy as np\n",
    "import pandas as pd\n",
    "import matplotlib.pyplot as plt\n",
    "import seaborn as sns\n",
    "\n",
    "#Carregamento dos dados\n",
    "train = pd.read_csv('train.csv')\n",
    "test = pd.read_csv('test.csv')"
   ]
  },
  {
   "source": [
    "# Tratamento dos dados"
   ],
   "cell_type": "markdown",
   "metadata": {}
  },
  {
   "cell_type": "code",
   "execution_count": null,
   "metadata": {},
   "outputs": [],
   "source": [
    "#Descrição da Data para termos a noção o tipo de dados com que estamos a trabalhar\n",
    "def describe_data(df):\n",
    "    print(\"Tipos:\")\n",
    "    print(df.dtypes)\n",
    "    print(\"Linhas & Colunas:\")\n",
    "    print(df.shape)\n",
    "    print(\"Colunas:\")\n",
    "    print(df.columns)\n",
    "    print(\"Valores Vazios:\")\n",
    "    print(df.apply(lambda x: sum(x.isnull()) / len(df)))\n",
    "\n",
    "describe_data(train)\n",
    "describe_data(test)\n",
    "\n",
    "#Conversão das possibilidades de 'Program' para inteiros, para podermos usar esse atributo para treinar e testar os dados\n",
    "program_map = {'Biology': 0, 'Informatics': 1, 'Management': 2, 'Nursing': 3}\n",
    "\n",
    "test['Program'] = test['Program'].map(program_map)\n",
    "train['Program'] = train['Program'].map(program_map)"
   ]
  },
  {
   "cell_type": "code",
   "execution_count": 961,
   "metadata": {},
   "outputs": [
    {
     "output_type": "execute_result",
     "data": {
      "text/plain": [
       "          Id  Program  Y0s1_enrol  Y0s2_enrol  Y1s1_enrol  Y1s1_complete  \\\n",
       "0  131386709        2        46.0        30.0        36.5           36.5   \n",
       "1  111354305        3        30.0        24.0        30.0           30.0   \n",
       "2  111345828        3        30.0        40.0        26.0           26.0   \n",
       "\n",
       "   Y1s1_grade  Y1s2_enrol  Y1s2_complete  Y1s2_grade  ...  Y4s1_enrol  \\\n",
       "0      11.452        36.0           36.0      13.236  ...         0.0   \n",
       "1      14.933        30.0           30.0      17.333  ...         0.0   \n",
       "2      17.000        20.0           10.0      16.000  ...         0.0   \n",
       "\n",
       "   Y4s1_complete  Y4s1_grade  Y4s2_enrol  Y4s2_complete  Y4s2_grade  \\\n",
       "0            0.0         0.0         0.0            0.0         0.0   \n",
       "1            0.0         0.0         0.0            0.0         0.0   \n",
       "2            0.0         0.0         0.0            0.0         0.0   \n",
       "\n",
       "   Rest_enrol  Rest_complete  Rest_grade  Failure  \n",
       "0         0.0            0.0         0.0        0  \n",
       "1         0.0            0.0         0.0        0  \n",
       "2         0.0            0.0         0.0        0  \n",
       "\n",
       "[3 rows x 32 columns]"
      ],
      "text/html": "<div>\n<style scoped>\n    .dataframe tbody tr th:only-of-type {\n        vertical-align: middle;\n    }\n\n    .dataframe tbody tr th {\n        vertical-align: top;\n    }\n\n    .dataframe thead th {\n        text-align: right;\n    }\n</style>\n<table border=\"1\" class=\"dataframe\">\n  <thead>\n    <tr style=\"text-align: right;\">\n      <th></th>\n      <th>Id</th>\n      <th>Program</th>\n      <th>Y0s1_enrol</th>\n      <th>Y0s2_enrol</th>\n      <th>Y1s1_enrol</th>\n      <th>Y1s1_complete</th>\n      <th>Y1s1_grade</th>\n      <th>Y1s2_enrol</th>\n      <th>Y1s2_complete</th>\n      <th>Y1s2_grade</th>\n      <th>...</th>\n      <th>Y4s1_enrol</th>\n      <th>Y4s1_complete</th>\n      <th>Y4s1_grade</th>\n      <th>Y4s2_enrol</th>\n      <th>Y4s2_complete</th>\n      <th>Y4s2_grade</th>\n      <th>Rest_enrol</th>\n      <th>Rest_complete</th>\n      <th>Rest_grade</th>\n      <th>Failure</th>\n    </tr>\n  </thead>\n  <tbody>\n    <tr>\n      <th>0</th>\n      <td>131386709</td>\n      <td>2</td>\n      <td>46.0</td>\n      <td>30.0</td>\n      <td>36.5</td>\n      <td>36.5</td>\n      <td>11.452</td>\n      <td>36.0</td>\n      <td>36.0</td>\n      <td>13.236</td>\n      <td>...</td>\n      <td>0.0</td>\n      <td>0.0</td>\n      <td>0.0</td>\n      <td>0.0</td>\n      <td>0.0</td>\n      <td>0.0</td>\n      <td>0.0</td>\n      <td>0.0</td>\n      <td>0.0</td>\n      <td>0</td>\n    </tr>\n    <tr>\n      <th>1</th>\n      <td>111354305</td>\n      <td>3</td>\n      <td>30.0</td>\n      <td>24.0</td>\n      <td>30.0</td>\n      <td>30.0</td>\n      <td>14.933</td>\n      <td>30.0</td>\n      <td>30.0</td>\n      <td>17.333</td>\n      <td>...</td>\n      <td>0.0</td>\n      <td>0.0</td>\n      <td>0.0</td>\n      <td>0.0</td>\n      <td>0.0</td>\n      <td>0.0</td>\n      <td>0.0</td>\n      <td>0.0</td>\n      <td>0.0</td>\n      <td>0</td>\n    </tr>\n    <tr>\n      <th>2</th>\n      <td>111345828</td>\n      <td>3</td>\n      <td>30.0</td>\n      <td>40.0</td>\n      <td>26.0</td>\n      <td>26.0</td>\n      <td>17.000</td>\n      <td>20.0</td>\n      <td>10.0</td>\n      <td>16.000</td>\n      <td>...</td>\n      <td>0.0</td>\n      <td>0.0</td>\n      <td>0.0</td>\n      <td>0.0</td>\n      <td>0.0</td>\n      <td>0.0</td>\n      <td>0.0</td>\n      <td>0.0</td>\n      <td>0.0</td>\n      <td>0</td>\n    </tr>\n  </tbody>\n</table>\n<p>3 rows × 32 columns</p>\n</div>"
     },
     "metadata": {},
     "execution_count": 961
    }
   ],
   "source": [
    "train.head(3)"
   ]
  },
  {
   "cell_type": "code",
   "execution_count": 962,
   "metadata": {},
   "outputs": [
    {
     "output_type": "execute_result",
     "data": {
      "text/plain": [
       "          Id  Program  Y0s1_enrol  Y0s2_enrol  Y1s1_enrol  Y1s1_complete  \\\n",
       "0  131394910        2        39.0        29.5        27.0            6.0   \n",
       "1  131391329        0        23.0        24.0        32.0           28.0   \n",
       "2  111345779        3        30.0        30.0        26.0           26.0   \n",
       "\n",
       "   Y1s1_grade  Y1s2_enrol  Y1s2_complete  Y1s2_grade  ...  Y3s2_grade  \\\n",
       "0      10.000        42.0            0.0         0.0  ...       0.000   \n",
       "1      13.143        40.0           30.0        14.0  ...      12.500   \n",
       "2      15.192        30.0           30.0        16.0  ...      13.067   \n",
       "\n",
       "   Y4s1_enrol  Y4s1_complete  Y4s1_grade  Y4s2_enrol  Y4s2_complete  \\\n",
       "0        41.5            0.0         0.0        29.0           10.0   \n",
       "1         0.0            0.0         0.0         0.0            0.0   \n",
       "2         0.0            0.0         0.0         0.0            0.0   \n",
       "\n",
       "   Y4s2_grade  Rest_enrol  Rest_complete  Rest_grade  \n",
       "0        10.8       143.0            0.0         0.0  \n",
       "1         0.0         0.0            0.0         0.0  \n",
       "2         0.0         0.0            0.0         0.0  \n",
       "\n",
       "[3 rows x 31 columns]"
      ],
      "text/html": "<div>\n<style scoped>\n    .dataframe tbody tr th:only-of-type {\n        vertical-align: middle;\n    }\n\n    .dataframe tbody tr th {\n        vertical-align: top;\n    }\n\n    .dataframe thead th {\n        text-align: right;\n    }\n</style>\n<table border=\"1\" class=\"dataframe\">\n  <thead>\n    <tr style=\"text-align: right;\">\n      <th></th>\n      <th>Id</th>\n      <th>Program</th>\n      <th>Y0s1_enrol</th>\n      <th>Y0s2_enrol</th>\n      <th>Y1s1_enrol</th>\n      <th>Y1s1_complete</th>\n      <th>Y1s1_grade</th>\n      <th>Y1s2_enrol</th>\n      <th>Y1s2_complete</th>\n      <th>Y1s2_grade</th>\n      <th>...</th>\n      <th>Y3s2_grade</th>\n      <th>Y4s1_enrol</th>\n      <th>Y4s1_complete</th>\n      <th>Y4s1_grade</th>\n      <th>Y4s2_enrol</th>\n      <th>Y4s2_complete</th>\n      <th>Y4s2_grade</th>\n      <th>Rest_enrol</th>\n      <th>Rest_complete</th>\n      <th>Rest_grade</th>\n    </tr>\n  </thead>\n  <tbody>\n    <tr>\n      <th>0</th>\n      <td>131394910</td>\n      <td>2</td>\n      <td>39.0</td>\n      <td>29.5</td>\n      <td>27.0</td>\n      <td>6.0</td>\n      <td>10.000</td>\n      <td>42.0</td>\n      <td>0.0</td>\n      <td>0.0</td>\n      <td>...</td>\n      <td>0.000</td>\n      <td>41.5</td>\n      <td>0.0</td>\n      <td>0.0</td>\n      <td>29.0</td>\n      <td>10.0</td>\n      <td>10.8</td>\n      <td>143.0</td>\n      <td>0.0</td>\n      <td>0.0</td>\n    </tr>\n    <tr>\n      <th>1</th>\n      <td>131391329</td>\n      <td>0</td>\n      <td>23.0</td>\n      <td>24.0</td>\n      <td>32.0</td>\n      <td>28.0</td>\n      <td>13.143</td>\n      <td>40.0</td>\n      <td>30.0</td>\n      <td>14.0</td>\n      <td>...</td>\n      <td>12.500</td>\n      <td>0.0</td>\n      <td>0.0</td>\n      <td>0.0</td>\n      <td>0.0</td>\n      <td>0.0</td>\n      <td>0.0</td>\n      <td>0.0</td>\n      <td>0.0</td>\n      <td>0.0</td>\n    </tr>\n    <tr>\n      <th>2</th>\n      <td>111345779</td>\n      <td>3</td>\n      <td>30.0</td>\n      <td>30.0</td>\n      <td>26.0</td>\n      <td>26.0</td>\n      <td>15.192</td>\n      <td>30.0</td>\n      <td>30.0</td>\n      <td>16.0</td>\n      <td>...</td>\n      <td>13.067</td>\n      <td>0.0</td>\n      <td>0.0</td>\n      <td>0.0</td>\n      <td>0.0</td>\n      <td>0.0</td>\n      <td>0.0</td>\n      <td>0.0</td>\n      <td>0.0</td>\n      <td>0.0</td>\n    </tr>\n  </tbody>\n</table>\n<p>3 rows × 31 columns</p>\n</div>"
     },
     "metadata": {},
     "execution_count": 962
    }
   ],
   "source": [
    "test.head(3)"
   ]
  },
  {
   "source": [
    "## Split dos dados"
   ],
   "cell_type": "markdown",
   "metadata": {}
  },
  {
   "cell_type": "code",
   "execution_count": 963,
   "metadata": {},
   "outputs": [],
   "source": [
    "from sklearn.model_selection import train_test_split\n",
    "from sklearn.metrics import classification_report\n",
    "\n",
    "#Split data\n",
    "X = train.drop(['Failure'], axis=1)\n",
    "y = train['Failure']    \n",
    "\n",
    "X_train, X_test, y_train, y_test = train_test_split(X, y,  test_size=0.33, random_state=42)"
   ]
  },
  {
   "source": [
    "## Previsão e comparação de accuracy entre os algoritmos\n",
    "\n",
    "* Após o Split fomos testar diferentes algoritmos, com os seus parametros padrão, para termos um ponto de partida de qual algoritmo poderá o ser o melhor a ser usado!\n",
    "* Para essa seleção olhamos para a accuracy de cada um"
   ],
   "cell_type": "markdown",
   "metadata": {}
  },
  {
   "cell_type": "code",
   "execution_count": 964,
   "metadata": {},
   "outputs": [
    {
     "output_type": "stream",
     "name": "stdout",
     "text": [
      "              precision    recall  f1-score   support\n\n           0       0.95      0.98      0.97       448\n           1       0.95      0.86      0.90       162\n\n    accuracy                           0.95       610\n   macro avg       0.95      0.92      0.93       610\nweighted avg       0.95      0.95      0.95       610\n\nTrain Score: 1.0\nTest Score: 0.9491803278688524\n94.92\n"
     ]
    }
   ],
   "source": [
    "from sklearn.metrics import accuracy_score\n",
    "from sklearn.ensemble import RandomForestClassifier\n",
    "\n",
    "#RandomForestClassifier\n",
    "RF = RandomForestClassifier(n_estimators=500, max_leaf_nodes=1000)\n",
    "RF.fit(X_train, y_train)\n",
    "y_pred = RF.predict(X_test)\n",
    "print(classification_report(y_test, y_pred))\n",
    "print(\"Train Score:\", RF.score(X_train, y_train))\n",
    "print(\"Test Score:\", RF.score(X_test, y_test))\n",
    "RF_acc = round(accuracy_score(y_pred, y_test)*100, 2)\n",
    "print(RF_acc)"
   ]
  },
  {
   "cell_type": "code",
   "execution_count": 965,
   "metadata": {},
   "outputs": [
    {
     "output_type": "stream",
     "name": "stdout",
     "text": [
      "              precision    recall  f1-score   support\n\n           0       0.84      0.94      0.89       448\n           1       0.76      0.51      0.61       162\n\n    accuracy                           0.83       610\n   macro avg       0.80      0.72      0.75       610\nweighted avg       0.82      0.83      0.81       610\n\nTrain Score: 0.8843042071197411\nTest Score: 0.8262295081967214\n82.62\n"
     ]
    }
   ],
   "source": [
    "from sklearn.neighbors import KNeighborsClassifier\n",
    "\n",
    "#KNN\n",
    "KNN = KNeighborsClassifier()\n",
    "KNN.fit(X_train, y_train)\n",
    "y_pred = KNN.predict(X_test)\n",
    "print(classification_report(y_test, y_pred))\n",
    "print(\"Train Score:\", KNN.score(X_train, y_train))\n",
    "print(\"Test Score:\", KNN.score(X_test, y_test))\n",
    "KNN_acc = round(accuracy_score(y_pred, y_test)*100, 2)\n",
    "print(KNN_acc)"
   ]
  },
  {
   "cell_type": "code",
   "execution_count": 966,
   "metadata": {},
   "outputs": [
    {
     "output_type": "stream",
     "name": "stdout",
     "text": [
      "              precision    recall  f1-score   support\n\n           0       0.73      1.00      0.85       448\n           1       0.00      0.00      0.00       162\n\n    accuracy                           0.73       610\n   macro avg       0.37      0.50      0.42       610\nweighted avg       0.54      0.73      0.62       610\n\nTrain Score: 0.7265372168284789\nTest Score: 0.7344262295081967\n73.44\n"
     ]
    }
   ],
   "source": [
    "from sklearn.linear_model import LogisticRegression\n",
    "\n",
    "#Logistic Regression\n",
    "LR = LogisticRegression()\n",
    "LR.fit(X_train, y_train)\n",
    "y_pred = LR.predict(X_test)\n",
    "print(classification_report(y_test, y_pred))\n",
    "print(\"Train Score:\", LR.score(X_train, y_train))\n",
    "print(\"Test Score:\", LR.score(X_test, y_test))\n",
    "LR_acc = round(accuracy_score(y_pred, y_test)*100, 2)\n",
    "print(LR_acc)"
   ]
  },
  {
   "cell_type": "code",
   "execution_count": 967,
   "metadata": {},
   "outputs": [
    {
     "output_type": "stream",
     "name": "stdout",
     "text": [
      "              precision    recall  f1-score   support\n\n           0       0.73      1.00      0.85       448\n           1       0.00      0.00      0.00       162\n\n    accuracy                           0.73       610\n   macro avg       0.37      0.50      0.42       610\nweighted avg       0.54      0.73      0.62       610\n\nTrain Score: 1.0\nTest Score: 0.9065573770491804\n73.44\n"
     ]
    }
   ],
   "source": [
    "from sklearn.tree import DecisionTreeClassifier\n",
    "\n",
    "#DecisionTreeClassifier\n",
    "DT = DecisionTreeClassifier()\n",
    "DT.fit(X_train, y_train)\n",
    "y_pred = LR.predict(X_test)\n",
    "DT_acc = round(accuracy_score(y_pred, y_test)*100, 2)\n",
    "print(classification_report(y_test, y_pred))\n",
    "print(\"Train Score:\", DT.score(X_train, y_train))\n",
    "print(\"Test Score:\", DT.score(X_test, y_test))\n",
    "DT_acc = round(accuracy_score(y_pred, y_test)*100, 2)\n",
    "print(DT_acc)"
   ]
  },
  {
   "cell_type": "code",
   "execution_count": 968,
   "metadata": {},
   "outputs": [
    {
     "output_type": "stream",
     "name": "stdout",
     "text": [
      "              precision    recall  f1-score   support\n\n           0       0.95      0.97      0.96       448\n           1       0.92      0.85      0.88       162\n\n    accuracy                           0.94       610\n   macro avg       0.93      0.91      0.92       610\nweighted avg       0.94      0.94      0.94       610\n\nTrain Score: 0.9951456310679612\nTest Score: 0.940983606557377\n94.1\n"
     ]
    }
   ],
   "source": [
    "from sklearn.ensemble import GradientBoostingClassifier\n",
    "\n",
    "#Gradient Boosting Classifier\n",
    "GBC = GradientBoostingClassifier()\n",
    "GBC.fit(X_train, y_train)\n",
    "y_pred = GBC.predict(X_test)\n",
    "GBC_acc = round(accuracy_score(y_pred, y_test)*100, 2)\n",
    "print(classification_report(y_test, y_pred))\n",
    "print(\"Train Score:\", GBC.score(X_train, y_train))\n",
    "print(\"Test Score:\", GBC.score(X_test, y_test))\n",
    "GBC_acc = round(accuracy_score(y_pred, y_test)*100, 2)\n",
    "print(GBC_acc)"
   ]
  },
  {
   "cell_type": "code",
   "execution_count": 969,
   "metadata": {},
   "outputs": [
    {
     "output_type": "stream",
     "name": "stdout",
     "text": [
      "              precision    recall  f1-score   support\n\n           0       0.97      0.19      0.32       448\n           1       0.31      0.98      0.47       162\n\n    accuracy                           0.40       610\n   macro avg       0.64      0.59      0.39       610\nweighted avg       0.79      0.40      0.36       610\n\nTrain Score: 0.3907766990291262\nTest Score: 0.4016393442622951\n40.16\n"
     ]
    }
   ],
   "source": [
    "from sklearn.naive_bayes import GaussianNB\n",
    "\n",
    "# Gaussian Naive Bayes\n",
    "GNB = GaussianNB()\n",
    "GNB.fit(X_train, y_train)\n",
    "y_pred = GNB.predict(X_test)\n",
    "GNB_acc = round(accuracy_score(y_pred, y_test)*100, 2)\n",
    "print(classification_report(y_test, y_pred))\n",
    "print(\"Train Score:\", GNB.score(X_train, y_train))\n",
    "print(\"Test Score:\", GNB.score(X_test, y_test))\n",
    "GNB_acc = round(accuracy_score(y_pred, y_test)*100, 2)\n",
    "print(GNB_acc)"
   ]
  },
  {
   "source": [
    "## Tabela de comparação com base na accuracy"
   ],
   "cell_type": "markdown",
   "metadata": {}
  },
  {
   "cell_type": "code",
   "execution_count": 970,
   "metadata": {},
   "outputs": [
    {
     "output_type": "execute_result",
     "data": {
      "text/plain": [
       "                         Modelo  Accuracy\n",
       "0        RandomForestClassifier     94.92\n",
       "4  Gradient Boosting Classifier     94.10\n",
       "1                           KNN     82.62\n",
       "2           Logistic Regression     73.44\n",
       "3        DecisionTreeClassifier     73.44\n",
       "5          Gaussian Naive Bayes     40.16"
      ],
      "text/html": "<div>\n<style scoped>\n    .dataframe tbody tr th:only-of-type {\n        vertical-align: middle;\n    }\n\n    .dataframe tbody tr th {\n        vertical-align: top;\n    }\n\n    .dataframe thead th {\n        text-align: right;\n    }\n</style>\n<table border=\"1\" class=\"dataframe\">\n  <thead>\n    <tr style=\"text-align: right;\">\n      <th></th>\n      <th>Modelo</th>\n      <th>Accuracy</th>\n    </tr>\n  </thead>\n  <tbody>\n    <tr>\n      <th>0</th>\n      <td>RandomForestClassifier</td>\n      <td>94.92</td>\n    </tr>\n    <tr>\n      <th>4</th>\n      <td>Gradient Boosting Classifier</td>\n      <td>94.10</td>\n    </tr>\n    <tr>\n      <th>1</th>\n      <td>KNN</td>\n      <td>82.62</td>\n    </tr>\n    <tr>\n      <th>2</th>\n      <td>Logistic Regression</td>\n      <td>73.44</td>\n    </tr>\n    <tr>\n      <th>3</th>\n      <td>DecisionTreeClassifier</td>\n      <td>73.44</td>\n    </tr>\n    <tr>\n      <th>5</th>\n      <td>Gaussian Naive Bayes</td>\n      <td>40.16</td>\n    </tr>\n  </tbody>\n</table>\n</div>"
     },
     "metadata": {},
     "execution_count": 970
    }
   ],
   "source": [
    "#Comparação dos Modelos Testados para averiguação de qual o possivel a ser usado\n",
    "models = pd.DataFrame({\n",
    "    'Modelo' : ['RandomForestClassifier', 'KNN', 'Logistic Regression', 'DecisionTreeClassifier', 'Gradient Boosting Classifier', 'Gaussian Naive Bayes'],\n",
    "    'Accuracy': [RF_acc, KNN_acc, LR_acc, DT_acc, GBC_acc, GNB_acc]})\n",
    "\n",
    "models.sort_values(by='Accuracy', ascending=False)"
   ]
  },
  {
   "source": [
    "### Resultado\n",
    " \n",
    "* Com base na tabela acima representada, verificamos que o algoritmo com melhor Accuracy foi o Random Forest.\n",
    "* Assim sendo, prosseguimos para o teste dos dados com esse algoritmo"
   ],
   "cell_type": "markdown",
   "metadata": {}
  },
  {
   "source": [
    "## Modelos \n",
    "\n",
    "* O primeiro parametro que começamos a alterar, em prol, da obtenção de um modelo mais preciso foi o n_estimators.\n",
    "* O parametro n_estimators, representa o número de árvores que a floresta irá ter. Esse número é 100 de padrão."
   ],
   "cell_type": "markdown",
   "metadata": {}
  },
  {
   "cell_type": "code",
   "execution_count": 971,
   "metadata": {},
   "outputs": [
    {
     "output_type": "stream",
     "name": "stdout",
     "text": [
      "              precision    recall  f1-score   support\n\n           0       0.95      0.98      0.96       448\n           1       0.93      0.85      0.89       162\n\n    accuracy                           0.94       610\n   macro avg       0.94      0.91      0.92       610\nweighted avg       0.94      0.94      0.94       610\n\nTrain Score: 1.0\nTest Score: 0.9426229508196722\n94.26\n"
     ]
    }
   ],
   "source": [
    "#RandomForestClassifier\n",
    "from sklearn.metrics import accuracy_score\n",
    "from sklearn.ensemble import RandomForestClassifier\n",
    "\n",
    "RF = RandomForestClassifier(n_estimators=500)\n",
    "RF.fit(X_train, y_train)\n",
    "y_pred = RF.predict(X_test)\n",
    "print(classification_report(y_test, y_pred))\n",
    "print(\"Train Score:\", RF.score(X_train, y_train))\n",
    "print(\"Test Score:\", RF.score(X_test, y_test))\n",
    "RF_acc = round(accuracy_score(y_pred, y_test)*100, 2)\n",
    "print(RF_acc)"
   ]
  },
  {
   "source": [
    "### Resultados obtidos:\n",
    "* Para o algoritmo foram testados diferentes número de estimadores(100(padrão), 200, 500, 800, 100)\n",
    "\n",
    "* Os resulatados no Kaggle foram:\n",
    "<br>\n",
    "&nbsp&nbsp&nbsp&nbsp&nbsp&nbsp;\n",
    "Para 100 estimadores: 0.95172\n",
    "<br>\n",
    "&nbsp&nbsp&nbsp&nbsp&nbsp&nbsp;\n",
    "Para 200 estimadores: 0.95172\n",
    "<br>\n",
    "&nbsp&nbsp&nbsp&nbsp&nbsp&nbsp;\n",
    "Para 500 estimadores: 0.95833\n",
    "<br>\n",
    "&nbsp&nbsp&nbsp&nbsp&nbsp&nbsp;\n",
    "Para 800 estimadores: 0.95833\n",
    "<br>\n",
    "&nbsp&nbsp&nbsp&nbsp&nbsp&nbsp;\n",
    "Para 1000 estimadores: 0.95172\n",
    "\n",
    "### Conclusões:\n",
    "* Entre 100 e 200 e até 500, score manteve-se inalterável\n",
    "* Em 500, score sobe consideravelmente\n",
    "* Entre 500 a 800, score constante\n",
    "* Entre 800 e 100, score volta a decrescer\n",
    "<br>\n",
    "<br>\n",
    "* **Prosseguimos com o valor de 500 estimadores**"
   ],
   "cell_type": "markdown",
   "metadata": {}
  },
  {
   "source": [
    "## Outros parametros testados\n",
    "* max_depth, este parametro representa a profundidade máxima da árvore\n",
    "\n",
    "* Foram testados os valores:\n",
    "<br>\n",
    "&nbsp&nbsp&nbsp&nbsp&nbsp&nbsp;\n",
    "Valor padrão - None\n",
    "<br>\n",
    "&nbsp&nbsp&nbsp&nbsp&nbsp&nbsp;\n",
    "maxp_depth = 10\n",
    "<br>\n",
    "&nbsp&nbsp&nbsp&nbsp&nbsp&nbsp;\n",
    "maxp_depth = 4\n",
    "\n",
    "\n",
    "### Conclusões\n",
    "* **Quer com o valor padrão, quer com 10, o score manteve-se constante em 0.95833**\n",
    "* **Com max_depth=4 e 500 estimadores, score desceu para 0.93617**\n",
    "\n",
    "<br>\n",
    "\n",
    "* max_leaf_nodes, este parametro representa o numero de folhas da árvore\n",
    "\n",
    "* Foram testados os valores:\n",
    "<br>\n",
    "&nbsp&nbsp&nbsp&nbsp&nbsp&nbsp;\n",
    "max_leaf_nodes = 1000\n",
    "<br>\n",
    "&nbsp&nbsp&nbsp&nbsp&nbsp&nbsp;\n",
    "max_leaf_nodes = 500\n",
    "<br>\n",
    "&nbsp&nbsp&nbsp&nbsp&nbsp&nbsp;\n",
    "max_leaf_nodes = 250\n",
    "<br>\n",
    "&nbsp&nbsp&nbsp&nbsp&nbsp&nbsp;\n",
    "max_leaf_nodes = 50\n",
    "<br>\n",
    "&nbsp&nbsp&nbsp&nbsp&nbsp&nbsp;\n",
    "max_leaf_nodes = 30\n",
    "\n",
    "### Conclusões\n",
    "* **Os valores de scores obtidos no kaggle foram todos diferentes. Sendo mais elevado aquele em que max_leaf_nodes=500 e max_leaf_nodes=1000 e menor aquele em que max_leaf_nodes tinha o menor valor, 30.**\n"
   ],
   "cell_type": "markdown",
   "metadata": {}
  },
  {
   "source": [
    "# Produção dos Ficheiros de Submissão"
   ],
   "cell_type": "markdown",
   "metadata": {}
  },
  {
   "cell_type": "code",
   "execution_count": 972,
   "metadata": {},
   "outputs": [],
   "source": [
    "ids_for_test = test['Id']\n",
    "\n",
    "#Constrição do Ficheiro de Submissão\n",
    "submission = pd.DataFrame({\n",
    "        \"Id\": ids_for_test,\n",
    "        \"Failure\": RF.predict(test)\n",
    "    })\n",
    "\n",
    "submission.to_csv('submission_46.csv', index=False)"
   ]
  },
  {
   "source": [
    "* Foram testados diversas combinações dos parametros acim mencionados, porém nunca obtendo score superior a 0.95833.\n",
    "\n",
    "### Outros Testes\n",
    "\n",
    "* Foram tambem testados ainda, modelos em que fossem excluídos alguns atributos. Atributos esses que tinham o menor peso no calculo da accuracy.\n",
    "* Obtivemos esses valor de peso apartir da seguinte tabela."
   ],
   "cell_type": "markdown",
   "metadata": {}
  },
  {
   "cell_type": "code",
   "execution_count": null,
   "metadata": {},
   "outputs": [],
   "source": [
    "feature_importances_df = pd.DataFrame(\n",
    "    {\"feature\": list(X.columns), \"importance\": classifier.feature_importances_}\n",
    ").sort_values(\"importance\", ascending=False)\n",
    "\n",
    "feature_importances_df"
   ]
  },
  {
   "cell_type": "code",
   "execution_count": null,
   "metadata": {},
   "outputs": [],
   "source": [
    "#Visualização das importâncias através de um gráfico de barras\n",
    "\n",
    "sns.barplot(x=feature_importances_df.feature, y=feature_importances_df.importance)\n",
    "\n",
    "plt.xlabel(\"Feature Importance Score\")\n",
    "plt.ylabel(\"Features\")\n",
    "plt.title(\"Visualizing Important Features\")\n",
    "plt.xticks(\n",
    "    rotation=45, horizontalalignment=\"right\", fontweight=\"light\", fontsize=\"x-large\"\n",
    ")\n",
    "plt.show()"
   ]
  },
  {
   "source": [
    "* Testes estes sem sucesso, com isto dizemos, sem incremento do valor do score, relativamente ao maior obtido"
   ],
   "cell_type": "markdown",
   "metadata": {}
  },
  {
   "source": [
    "# 5 Melhores submissões no Kaggle"
   ],
   "cell_type": "markdown",
   "metadata": {}
  },
  {
   "source": [
    "### Submissões\n",
    "* Notas: \n",
    "&nbsp&nbsp&nbsp&nbsp&nbsp&nbsp;\n",
    "<br>\n",
    "Todas as submissões foram feitas usando todos os atributos presentes no ficheiro test.csv\n",
    "&nbsp&nbsp&nbsp&nbsp&nbsp&nbsp;\n",
    "<br>\n",
    "Com 0.33 de test_size no split\n",
    "\n",
    "* RandomForestClassifier(n_estimators=500), com score de 0.95833\n",
    "\n",
    "* RandomForestClassifier(n_estimators=500, max_leaf_nodes=1000), com score de 0.95833\n",
    "\n",
    "* RandomForestClassifier(n_estimators=500, max_leaf_nodes=500), com score de 0.95833\n",
    "\n",
    "* RandomForestClassifer(n_estimators=500, max_depth=10), com score de 0.95833\n",
    "\n",
    "* RandomForestClassifier(n_estimators=800), com score de 0.95833\n",
    "\n",
    "\n",
    "### **Score Máximo Obtido:**\n",
    "* 0.95833"
   ],
   "cell_type": "markdown",
   "metadata": {}
  }
 ],
 "metadata": {
  "kernelspec": {
   "display_name": "Python 3.8.5 64-bit",
   "language": "python",
   "name": "python38564bitdd4d62b33de749ae868364f548505442"
  },
  "language_info": {
   "codemirror_mode": {
    "name": "ipython",
    "version": 3
   },
   "file_extension": ".py",
   "mimetype": "text/x-python",
   "name": "python",
   "nbconvert_exporter": "python",
   "pygments_lexer": "ipython3",
   "version": "3.8.5-final"
  }
 },
 "nbformat": 4,
 "nbformat_minor": 4
}